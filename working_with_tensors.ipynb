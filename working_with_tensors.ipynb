{
 "cells": [
  {
   "cell_type": "markdown",
   "metadata": {},
   "source": [
    "### Working with Tensors"
   ]
  },
  {
   "cell_type": "code",
   "execution_count": 3,
   "metadata": {},
   "outputs": [],
   "source": [
    "import torch\n",
    "import pandas as pd\n",
    "import numpy as np\n",
    "import matplotlib.pyplot as plt"
   ]
  },
  {
   "cell_type": "code",
   "execution_count": 4,
   "metadata": {},
   "outputs": [
    {
     "name": "stdout",
     "output_type": "stream",
     "text": [
      "2.3.1\n"
     ]
    }
   ],
   "source": [
    "print(torch.__version__)"
   ]
  },
  {
   "cell_type": "code",
   "execution_count": 9,
   "metadata": {},
   "outputs": [
    {
     "data": {
      "text/plain": [
       "tensor(7)"
      ]
     },
     "execution_count": 9,
     "metadata": {},
     "output_type": "execute_result"
    }
   ],
   "source": [
    "#scalar\n",
    "scalar = torch.tensor(7)\n",
    "scalar"
   ]
  },
  {
   "cell_type": "code",
   "execution_count": null,
   "metadata": {},
   "outputs": [
    {
     "data": {
      "text/plain": [
       "0"
      ]
     },
     "execution_count": 10,
     "metadata": {},
     "output_type": "execute_result"
    }
   ],
   "source": [
    "#Get the dimension of the tensor\n",
    "scalar.ndim"
   ]
  },
  {
   "cell_type": "code",
   "execution_count": null,
   "metadata": {},
   "outputs": [
    {
     "data": {
      "text/plain": [
       "7"
      ]
     },
     "execution_count": 13,
     "metadata": {},
     "output_type": "execute_result"
    }
   ],
   "source": [
    "#Get the item from tensor as python integer\n",
    "scalar.item()"
   ]
  },
  {
   "cell_type": "code",
   "execution_count": null,
   "metadata": {},
   "outputs": [
    {
     "name": "stdout",
     "output_type": "stream",
     "text": [
      "tensor([1, 2, 3])\n",
      "1\n",
      "torch.Size([3])\n"
     ]
    }
   ],
   "source": [
    "#Vector\n",
    "vector = torch.tensor([1,2,3])\n",
    "print(vector)\n",
    "print(vector.ndim) #Number of square bracket (count onlu starting or ending)\n",
    "print(vector.shape) #Number of elements inside the vector"
   ]
  },
  {
   "cell_type": "code",
   "execution_count": 23,
   "metadata": {},
   "outputs": [
    {
     "name": "stdout",
     "output_type": "stream",
     "text": [
      "tensor([[1, 2],\n",
      "        [3, 4]])\n",
      "2\n",
      "tensor([1, 2])\n",
      "tensor([3, 4])\n",
      "torch.Size([2, 2])\n"
     ]
    }
   ],
   "source": [
    "#Matrix\n",
    "matrix = torch.tensor([[1,2],\n",
    "                      [3,4]])\n",
    "print(matrix)\n",
    "print(matrix.ndim)\n",
    "print(matrix[0])\n",
    "print(matrix[1])\n",
    "print(matrix.shape)"
   ]
  },
  {
   "cell_type": "code",
   "execution_count": 33,
   "metadata": {},
   "outputs": [
    {
     "name": "stdout",
     "output_type": "stream",
     "text": [
      "tensor([[[1, 2, 3],\n",
      "         [4, 5, 6],\n",
      "         [7, 8, 9]]])\n",
      "3\n",
      "torch.Size([1, 3, 3])\n",
      "tensor([[1, 2, 3],\n",
      "        [4, 5, 6],\n",
      "        [7, 8, 9]])\n",
      "tensor([1, 2, 3])\n"
     ]
    }
   ],
   "source": [
    "#TENSOR\n",
    "tensor = torch.tensor([[[1,2,3],\n",
    "                        [4,5,6],\n",
    "                        [7,8,9]]])\n",
    "print(tensor)\n",
    "print(tensor.ndim)\n",
    "print(tensor.shape)\n",
    "print(tensor[0])\n",
    "print(tensor[0][0])"
   ]
  },
  {
   "cell_type": "markdown",
   "metadata": {},
   "source": [
    "### Random tensors"
   ]
  },
  {
   "cell_type": "code",
   "execution_count": 35,
   "metadata": {},
   "outputs": [
    {
     "data": {
      "text/plain": [
       "tensor([[0.3468, 0.6722, 0.5992, 0.3219],\n",
       "        [0.1601, 0.0626, 0.7661, 0.3868],\n",
       "        [0.4544, 0.1254, 0.4808, 0.9564]])"
      ]
     },
     "execution_count": 35,
     "metadata": {},
     "output_type": "execute_result"
    }
   ],
   "source": [
    "random_tensor = torch.rand(3,4)\n",
    "random_tensor"
   ]
  },
  {
   "cell_type": "code",
   "execution_count": 40,
   "metadata": {},
   "outputs": [
    {
     "data": {
      "text/plain": [
       "tensor([0.1072, 0.8883])"
      ]
     },
     "execution_count": 40,
     "metadata": {},
     "output_type": "execute_result"
    }
   ],
   "source": [
    "random_tensor_2 = torch.rand(2)\n",
    "random_tensor_2"
   ]
  },
  {
   "cell_type": "code",
   "execution_count": null,
   "metadata": {},
   "outputs": [
    {
     "data": {
      "text/plain": [
       "(tensor([[[0.2416, 0.2582, 0.6599, 0.1752],\n",
       "          [0.5051, 0.7832, 0.7357, 0.5569],\n",
       "          [0.2454, 0.3947, 0.8126, 0.3088]],\n",
       " \n",
       "         [[0.4866, 0.1454, 0.2963, 0.0966],\n",
       "          [0.7107, 0.7540, 0.7458, 0.8730],\n",
       "          [0.8940, 0.9257, 0.8744, 0.5184]]]),\n",
       " 3)"
      ]
     },
     "execution_count": 44,
     "metadata": {},
     "output_type": "execute_result"
    }
   ],
   "source": [
    "random_tensor_3 = torch.rand(2,3,4)\n",
    "print(random_tensor_3)\n",
    "print(random_tensor_3.ndim)"
   ]
  },
  {
   "cell_type": "code",
   "execution_count": 47,
   "metadata": {},
   "outputs": [
    {
     "name": "stdout",
     "output_type": "stream",
     "text": [
      "tensor([[[0.8260, 0.9153, 0.3725,  ..., 0.8114, 0.4444, 0.0696],\n",
      "         [0.2426, 0.4022, 0.8972,  ..., 0.1011, 0.2704, 0.6388],\n",
      "         [0.7789, 0.2395, 0.9762,  ..., 0.8589, 0.5137, 0.5164],\n",
      "         ...,\n",
      "         [0.9039, 0.6295, 0.0191,  ..., 0.7965, 0.9291, 0.4755],\n",
      "         [0.1098, 0.2414, 0.5594,  ..., 0.0245, 0.4238, 0.8658],\n",
      "         [0.6981, 0.1008, 0.0996,  ..., 0.9551, 0.1795, 0.9501]],\n",
      "\n",
      "        [[0.5570, 0.2164, 0.5899,  ..., 0.3498, 0.8689, 0.9090],\n",
      "         [0.5262, 0.6854, 0.7448,  ..., 0.9883, 0.4154, 0.1979],\n",
      "         [0.1734, 0.6920, 0.1611,  ..., 0.5126, 0.2120, 0.7009],\n",
      "         ...,\n",
      "         [0.6428, 0.3378, 0.5963,  ..., 0.4069, 0.7386, 0.4111],\n",
      "         [0.9596, 0.9402, 0.1366,  ..., 0.7944, 0.6234, 0.1710],\n",
      "         [0.6246, 0.0112, 0.1196,  ..., 0.1108, 0.3297, 0.9148]],\n",
      "\n",
      "        [[0.9555, 0.0619, 0.6867,  ..., 0.7964, 0.0923, 0.8377],\n",
      "         [0.5075, 0.2940, 0.6881,  ..., 0.4576, 0.1072, 0.0794],\n",
      "         [0.7385, 0.1914, 0.7593,  ..., 0.8026, 0.1249, 0.5859],\n",
      "         ...,\n",
      "         [0.4226, 0.4733, 0.8742,  ..., 0.4580, 0.2612, 0.0964],\n",
      "         [0.7615, 0.2600, 0.7464,  ..., 0.5938, 0.8074, 0.6870],\n",
      "         [0.8000, 0.5679, 0.3135,  ..., 0.3314, 0.8508, 0.2306]]])\n",
      "torch.Size([3, 224, 244])\n",
      "3\n"
     ]
    }
   ],
   "source": [
    "#Random tensor with similar shape to an image tensor\n",
    "random_image_size_tensor = torch.rand(size=(3,224,244)) #color channel,height, width\n",
    "\n",
    "print(random_image_size_tensor)\n",
    "print(random_image_size_tensor.shape)\n",
    "print(random_image_size_tensor.ndim)"
   ]
  },
  {
   "cell_type": "markdown",
   "metadata": {},
   "source": [
    "### Zeros and Ones"
   ]
  },
  {
   "cell_type": "code",
   "execution_count": 50,
   "metadata": {},
   "outputs": [
    {
     "data": {
      "text/plain": [
       "tensor([[0., 0., 0., 0.],\n",
       "        [0., 0., 0., 0.],\n",
       "        [0., 0., 0., 0.]])"
      ]
     },
     "execution_count": 50,
     "metadata": {},
     "output_type": "execute_result"
    }
   ],
   "source": [
    "zeros = torch.zeros(size=(3,4))\n",
    "zeros"
   ]
  },
  {
   "cell_type": "code",
   "execution_count": 52,
   "metadata": {},
   "outputs": [
    {
     "name": "stdout",
     "output_type": "stream",
     "text": [
      "tensor([[0.3468, 0.6722, 0.5992, 0.3219],\n",
      "        [0.1601, 0.0626, 0.7661, 0.3868],\n",
      "        [0.4544, 0.1254, 0.4808, 0.9564]])\n",
      "tensor([[0., 0., 0., 0.],\n",
      "        [0., 0., 0., 0.],\n",
      "        [0., 0., 0., 0.]])\n",
      "tensor([[0., 0., 0., 0.],\n",
      "        [0., 0., 0., 0.],\n",
      "        [0., 0., 0., 0.]])\n"
     ]
    }
   ],
   "source": [
    "print(random_tensor)\n",
    "print(zeros)\n",
    "print(zeros*random_tensor)"
   ]
  },
  {
   "cell_type": "code",
   "execution_count": 53,
   "metadata": {},
   "outputs": [
    {
     "data": {
      "text/plain": [
       "tensor([[1., 1., 1., 1.],\n",
       "        [1., 1., 1., 1.],\n",
       "        [1., 1., 1., 1.]])"
      ]
     },
     "execution_count": 53,
     "metadata": {},
     "output_type": "execute_result"
    }
   ],
   "source": [
    "ones = torch.ones(size=(3,4))\n",
    "ones"
   ]
  },
  {
   "cell_type": "code",
   "execution_count": 54,
   "metadata": {},
   "outputs": [
    {
     "data": {
      "text/plain": [
       "torch.float32"
      ]
     },
     "execution_count": 54,
     "metadata": {},
     "output_type": "execute_result"
    }
   ],
   "source": [
    "random_tensor.dtype"
   ]
  },
  {
   "cell_type": "code",
   "execution_count": null,
   "metadata": {},
   "outputs": [],
   "source": []
  }
 ],
 "metadata": {
  "kernelspec": {
   "display_name": "base",
   "language": "python",
   "name": "python3"
  },
  "language_info": {
   "codemirror_mode": {
    "name": "ipython",
    "version": 3
   },
   "file_extension": ".py",
   "mimetype": "text/x-python",
   "name": "python",
   "nbconvert_exporter": "python",
   "pygments_lexer": "ipython3",
   "version": "3.12.4"
  }
 },
 "nbformat": 4,
 "nbformat_minor": 2
}

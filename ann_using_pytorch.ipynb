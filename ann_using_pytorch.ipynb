{
 "cells": [
  {
   "cell_type": "markdown",
   "metadata": {},
   "source": [
    "### ANN using PyTorch"
   ]
  },
  {
   "cell_type": "code",
   "execution_count": 1,
   "metadata": {},
   "outputs": [],
   "source": [
    "import pandas as pd\n",
    "from sklearn.model_selection import train_test_split\n",
    "import torch\n",
    "from torch.utils.data import Dataset,DataLoader\n",
    "import torch.nn as nn\n",
    "import torch.optim as optim\n",
    "import matplotlib.pyplot as plt"
   ]
  },
  {
   "cell_type": "code",
   "execution_count": 2,
   "metadata": {},
   "outputs": [
    {
     "data": {
      "text/plain": [
       "<torch._C.Generator at 0x145a5d193b0>"
      ]
     },
     "execution_count": 2,
     "metadata": {},
     "output_type": "execute_result"
    }
   ],
   "source": [
    "torch.manual_seed(42)"
   ]
  },
  {
   "cell_type": "code",
   "execution_count": 4,
   "metadata": {},
   "outputs": [
    {
     "data": {
      "text/html": [
       "<div>\n",
       "<style scoped>\n",
       "    .dataframe tbody tr th:only-of-type {\n",
       "        vertical-align: middle;\n",
       "    }\n",
       "\n",
       "    .dataframe tbody tr th {\n",
       "        vertical-align: top;\n",
       "    }\n",
       "\n",
       "    .dataframe thead th {\n",
       "        text-align: right;\n",
       "    }\n",
       "</style>\n",
       "<table border=\"1\" class=\"dataframe\">\n",
       "  <thead>\n",
       "    <tr style=\"text-align: right;\">\n",
       "      <th></th>\n",
       "      <th>label</th>\n",
       "      <th>pixel1</th>\n",
       "      <th>pixel2</th>\n",
       "      <th>pixel3</th>\n",
       "      <th>pixel4</th>\n",
       "      <th>pixel5</th>\n",
       "      <th>pixel6</th>\n",
       "      <th>pixel7</th>\n",
       "      <th>pixel8</th>\n",
       "      <th>pixel9</th>\n",
       "      <th>...</th>\n",
       "      <th>pixel775</th>\n",
       "      <th>pixel776</th>\n",
       "      <th>pixel777</th>\n",
       "      <th>pixel778</th>\n",
       "      <th>pixel779</th>\n",
       "      <th>pixel780</th>\n",
       "      <th>pixel781</th>\n",
       "      <th>pixel782</th>\n",
       "      <th>pixel783</th>\n",
       "      <th>pixel784</th>\n",
       "    </tr>\n",
       "  </thead>\n",
       "  <tbody>\n",
       "    <tr>\n",
       "      <th>0</th>\n",
       "      <td>9</td>\n",
       "      <td>0</td>\n",
       "      <td>0</td>\n",
       "      <td>0</td>\n",
       "      <td>0</td>\n",
       "      <td>0</td>\n",
       "      <td>0</td>\n",
       "      <td>0</td>\n",
       "      <td>0</td>\n",
       "      <td>0</td>\n",
       "      <td>...</td>\n",
       "      <td>0</td>\n",
       "      <td>7</td>\n",
       "      <td>0</td>\n",
       "      <td>50</td>\n",
       "      <td>205</td>\n",
       "      <td>196</td>\n",
       "      <td>213</td>\n",
       "      <td>165</td>\n",
       "      <td>0</td>\n",
       "      <td>0</td>\n",
       "    </tr>\n",
       "    <tr>\n",
       "      <th>1</th>\n",
       "      <td>7</td>\n",
       "      <td>0</td>\n",
       "      <td>0</td>\n",
       "      <td>0</td>\n",
       "      <td>0</td>\n",
       "      <td>0</td>\n",
       "      <td>0</td>\n",
       "      <td>0</td>\n",
       "      <td>0</td>\n",
       "      <td>0</td>\n",
       "      <td>...</td>\n",
       "      <td>0</td>\n",
       "      <td>0</td>\n",
       "      <td>0</td>\n",
       "      <td>0</td>\n",
       "      <td>0</td>\n",
       "      <td>0</td>\n",
       "      <td>0</td>\n",
       "      <td>0</td>\n",
       "      <td>0</td>\n",
       "      <td>0</td>\n",
       "    </tr>\n",
       "    <tr>\n",
       "      <th>2</th>\n",
       "      <td>0</td>\n",
       "      <td>0</td>\n",
       "      <td>0</td>\n",
       "      <td>0</td>\n",
       "      <td>0</td>\n",
       "      <td>0</td>\n",
       "      <td>1</td>\n",
       "      <td>0</td>\n",
       "      <td>0</td>\n",
       "      <td>0</td>\n",
       "      <td>...</td>\n",
       "      <td>142</td>\n",
       "      <td>142</td>\n",
       "      <td>142</td>\n",
       "      <td>21</td>\n",
       "      <td>0</td>\n",
       "      <td>3</td>\n",
       "      <td>0</td>\n",
       "      <td>0</td>\n",
       "      <td>0</td>\n",
       "      <td>0</td>\n",
       "    </tr>\n",
       "    <tr>\n",
       "      <th>3</th>\n",
       "      <td>8</td>\n",
       "      <td>0</td>\n",
       "      <td>0</td>\n",
       "      <td>0</td>\n",
       "      <td>0</td>\n",
       "      <td>0</td>\n",
       "      <td>0</td>\n",
       "      <td>0</td>\n",
       "      <td>0</td>\n",
       "      <td>0</td>\n",
       "      <td>...</td>\n",
       "      <td>0</td>\n",
       "      <td>0</td>\n",
       "      <td>0</td>\n",
       "      <td>0</td>\n",
       "      <td>0</td>\n",
       "      <td>0</td>\n",
       "      <td>0</td>\n",
       "      <td>0</td>\n",
       "      <td>0</td>\n",
       "      <td>0</td>\n",
       "    </tr>\n",
       "    <tr>\n",
       "      <th>4</th>\n",
       "      <td>8</td>\n",
       "      <td>0</td>\n",
       "      <td>0</td>\n",
       "      <td>0</td>\n",
       "      <td>0</td>\n",
       "      <td>0</td>\n",
       "      <td>0</td>\n",
       "      <td>0</td>\n",
       "      <td>0</td>\n",
       "      <td>0</td>\n",
       "      <td>...</td>\n",
       "      <td>213</td>\n",
       "      <td>203</td>\n",
       "      <td>174</td>\n",
       "      <td>151</td>\n",
       "      <td>188</td>\n",
       "      <td>10</td>\n",
       "      <td>0</td>\n",
       "      <td>0</td>\n",
       "      <td>0</td>\n",
       "      <td>0</td>\n",
       "    </tr>\n",
       "  </tbody>\n",
       "</table>\n",
       "<p>5 rows × 785 columns</p>\n",
       "</div>"
      ],
      "text/plain": [
       "   label  pixel1  pixel2  pixel3  pixel4  pixel5  pixel6  pixel7  pixel8  \\\n",
       "0      9       0       0       0       0       0       0       0       0   \n",
       "1      7       0       0       0       0       0       0       0       0   \n",
       "2      0       0       0       0       0       0       1       0       0   \n",
       "3      8       0       0       0       0       0       0       0       0   \n",
       "4      8       0       0       0       0       0       0       0       0   \n",
       "\n",
       "   pixel9  ...  pixel775  pixel776  pixel777  pixel778  pixel779  pixel780  \\\n",
       "0       0  ...         0         7         0        50       205       196   \n",
       "1       0  ...         0         0         0         0         0         0   \n",
       "2       0  ...       142       142       142        21         0         3   \n",
       "3       0  ...         0         0         0         0         0         0   \n",
       "4       0  ...       213       203       174       151       188        10   \n",
       "\n",
       "   pixel781  pixel782  pixel783  pixel784  \n",
       "0       213       165         0         0  \n",
       "1         0         0         0         0  \n",
       "2         0         0         0         0  \n",
       "3         0         0         0         0  \n",
       "4         0         0         0         0  \n",
       "\n",
       "[5 rows x 785 columns]"
      ]
     },
     "execution_count": 4,
     "metadata": {},
     "output_type": "execute_result"
    }
   ],
   "source": [
    "df = pd.read_csv(\"dataset/fmnist_small.csv\")\n",
    "df.head()"
   ]
  },
  {
   "cell_type": "code",
   "execution_count": 5,
   "metadata": {},
   "outputs": [
    {
     "data": {
      "image/png": "[encoded data removed]",
      "text/plain": [
       "<Figure size 1000x1000 with 16 Axes>"
      ]
     },
     "metadata": {},
     "output_type": "display_data"
    }
   ],
   "source": [
    "fig,axes = plt.subplots(4,4,figsize=(10,10))\n",
    "fig.suptitle(\"First 16 images\",fontsize=16)\n",
    "\n",
    "for i,ax in enumerate(axes.flat):\n",
    "    img = df.iloc[i,1:].values.reshape(28,28)\n",
    "    ax.imshow(img)\n",
    "    ax.axis(\"off\")\n",
    "    ax.set_title(f\"Label: {df.iloc[i,0]}\")\n",
    "    \n",
    "plt.tight_layout(rect=[0,0,1,0.96])\n",
    "plt.show()"
   ]
  },
  {
   "cell_type": "code",
   "execution_count": 32,
   "metadata": {},
   "outputs": [],
   "source": [
    "#train test split\n",
    "X = df.iloc[:,1:].values\n",
    "y = df.iloc[:,0].values\n",
    "\n",
    "X_train,X_test,y_train,y_test = train_test_split(X,y,test_size=0.2,random_state=42)\n",
    "\n",
    "X_train = X_train/255.0\n",
    "X_test = X_test/255.0"
   ]
  },
  {
   "cell_type": "code",
   "execution_count": 33,
   "metadata": {},
   "outputs": [],
   "source": [
    "#CustomDataset class\n",
    "class CustomDataset(Dataset):\n",
    "    def __init__(self,features,labels):\n",
    "        self.features = torch.tensor(features,dtype=torch.float32)\n",
    "        self.labels = torch.tensor(labels,dtype=torch.long)\n",
    "        \n",
    "    def __len__(self):\n",
    "        return len(self.features)\n",
    "    \n",
    "    def __getitem__(self, index):\n",
    "        return self.features[index],self.labels[index]"
   ]
  },
  {
   "cell_type": "code",
   "execution_count": 34,
   "metadata": {},
   "outputs": [
    {
     "data": {
      "text/plain": [
       "4800"
      ]
     },
     "execution_count": 34,
     "metadata": {},
     "output_type": "execute_result"
    }
   ],
   "source": [
    "train_dataset = CustomDataset(X_train,y_train)\n",
    "len(train_dataset)"
   ]
  },
  {
   "cell_type": "code",
   "execution_count": 35,
   "metadata": {},
   "outputs": [
    {
     "data": {
      "text/plain": [
       "1200"
      ]
     },
     "execution_count": 35,
     "metadata": {},
     "output_type": "execute_result"
    }
   ],
   "source": [
    "test_dataset = CustomDataset(X_test,y_test)\n",
    "len(test_dataset)"
   ]
  },
  {
   "cell_type": "code",
   "execution_count": 36,
   "metadata": {},
   "outputs": [],
   "source": [
    "train_loader = DataLoader(train_dataset,batch_size=32,shuffle=True)\n",
    "test_loader = DataLoader(test_dataset,batch_size=32,shuffle=False)"
   ]
  },
  {
   "cell_type": "code",
   "execution_count": 37,
   "metadata": {},
   "outputs": [],
   "source": [
    "#create NN\n",
    "class NN(nn.Module):\n",
    "    def __init__(self,num_features):\n",
    "        super().__init__()\n",
    "        self.model=nn.Sequential(\n",
    "            nn.Linear(num_features,128),\n",
    "            nn.ReLU(),\n",
    "            nn.Linear(128,64),\n",
    "            nn.ReLU(),\n",
    "            nn.Linear(64,10)\n",
    "        )\n",
    "        \n",
    "    def forward(self,x):\n",
    "        return self.model(x)"
   ]
  },
  {
   "cell_type": "code",
   "execution_count": 38,
   "metadata": {},
   "outputs": [],
   "source": [
    "epochs = 100\n",
    "learning_rate = 0.1"
   ]
  },
  {
   "cell_type": "code",
   "execution_count": 39,
   "metadata": {},
   "outputs": [],
   "source": [
    "model = NN(X_train.shape[1])\n",
    "criterion = nn.CrossEntropyLoss()\n",
    "optimizer = optim.SGD(model.parameters(),lr=learning_rate)"
   ]
  },
  {
   "cell_type": "code",
   "execution_count": 40,
   "metadata": {},
   "outputs": [
    {
     "name": "stdout",
     "output_type": "stream",
     "text": [
      "Epoch : 1, Loss:1.3470052524407705\n",
      "Epoch : 2, Loss:0.7789573476711908\n",
      "Epoch : 3, Loss:0.6505434088905653\n",
      "Epoch : 4, Loss:0.5815447773536047\n",
      "Epoch : 5, Loss:0.5400441136956214\n",
      "Epoch : 6, Loss:0.49835661361614864\n",
      "Epoch : 7, Loss:0.4672758835554123\n",
      "Epoch : 8, Loss:0.4402101857463519\n",
      "Epoch : 9, Loss:0.42660367394487064\n",
      "Epoch : 10, Loss:0.3987228943904241\n",
      "Epoch : 11, Loss:0.39149292588233947\n",
      "Epoch : 12, Loss:0.35922583043575285\n",
      "Epoch : 13, Loss:0.3510331778724988\n",
      "Epoch : 14, Loss:0.3391282739738623\n",
      "Epoch : 15, Loss:0.32781073038776715\n",
      "Epoch : 16, Loss:0.30541254435976345\n",
      "Epoch : 17, Loss:0.30060299654801687\n",
      "Epoch : 18, Loss:0.27730961059530573\n",
      "Epoch : 19, Loss:0.29865051796038944\n",
      "Epoch : 20, Loss:0.27678090157608193\n",
      "Epoch : 21, Loss:0.255534104903539\n",
      "Epoch : 22, Loss:0.24664489996929964\n",
      "Epoch : 23, Loss:0.2477693503846725\n",
      "Epoch : 24, Loss:0.23273408663769563\n",
      "Epoch : 25, Loss:0.23383349888026714\n",
      "Epoch : 26, Loss:0.2114444144318501\n",
      "Epoch : 27, Loss:0.20590276308357716\n",
      "Epoch : 28, Loss:0.20472146990398565\n",
      "Epoch : 29, Loss:0.19798484906554223\n",
      "Epoch : 30, Loss:0.2465194181104501\n",
      "Epoch : 31, Loss:0.20137031399955352\n",
      "Epoch : 32, Loss:0.18316253727922838\n",
      "Epoch : 33, Loss:0.16956276185810565\n",
      "Epoch : 34, Loss:0.1635452143351237\n",
      "Epoch : 35, Loss:0.17588045595834653\n",
      "Epoch : 36, Loss:0.15585021294653414\n",
      "Epoch : 37, Loss:0.1519138998662432\n",
      "Epoch : 38, Loss:0.1501763611411055\n",
      "Epoch : 39, Loss:0.15236076429486275\n",
      "Epoch : 40, Loss:0.13805959903324644\n",
      "Epoch : 41, Loss:0.13405669036942225\n",
      "Epoch : 42, Loss:0.13789173912256955\n",
      "Epoch : 43, Loss:0.12104063337047895\n",
      "Epoch : 44, Loss:0.13247704414340358\n",
      "Epoch : 45, Loss:0.11567796823258202\n",
      "Epoch : 46, Loss:0.11352636657034357\n",
      "Epoch : 47, Loss:0.1146712767953674\n",
      "Epoch : 48, Loss:0.11091589102521539\n",
      "Epoch : 49, Loss:0.09622878000761072\n",
      "Epoch : 50, Loss:0.10047186658562471\n",
      "Epoch : 51, Loss:0.08007062455018361\n",
      "Epoch : 52, Loss:0.10827452837179105\n",
      "Epoch : 53, Loss:0.1022224801654617\n",
      "Epoch : 54, Loss:0.08379044085741043\n",
      "Epoch : 55, Loss:0.08372697189760704\n",
      "Epoch : 56, Loss:0.09077743518942347\n",
      "Epoch : 57, Loss:0.0731374968526264\n",
      "Epoch : 58, Loss:0.11308232553613683\n",
      "Epoch : 59, Loss:0.08090300098061562\n",
      "Epoch : 60, Loss:0.06785352174813548\n",
      "Epoch : 61, Loss:0.0751417650654912\n",
      "Epoch : 62, Loss:0.07034959962048258\n",
      "Epoch : 63, Loss:0.060140121644362804\n",
      "Epoch : 64, Loss:0.06580393500781308\n",
      "Epoch : 65, Loss:0.06745144684333354\n",
      "Epoch : 66, Loss:0.05061140092865874\n",
      "Epoch : 67, Loss:0.06937994559450696\n",
      "Epoch : 68, Loss:0.0697427598045518\n",
      "Epoch : 69, Loss:0.06602907554556926\n",
      "Epoch : 70, Loss:0.0515700106928125\n",
      "Epoch : 71, Loss:0.20047958481203143\n",
      "Epoch : 72, Loss:0.14554441013683875\n",
      "Epoch : 73, Loss:0.08747984043943385\n",
      "Epoch : 74, Loss:0.07570080745344361\n",
      "Epoch : 75, Loss:0.08952877836767584\n",
      "Epoch : 76, Loss:0.06825678570351253\n",
      "Epoch : 77, Loss:0.05336741416559865\n",
      "Epoch : 78, Loss:0.05962348357774317\n",
      "Epoch : 79, Loss:0.03638001036131754\n",
      "Epoch : 80, Loss:0.06673953498403232\n",
      "Epoch : 81, Loss:0.05090003259014338\n",
      "Epoch : 82, Loss:0.041436713744575776\n",
      "Epoch : 83, Loss:0.04356393549280862\n",
      "Epoch : 84, Loss:0.037647593754033246\n",
      "Epoch : 85, Loss:0.040115083291505774\n",
      "Epoch : 86, Loss:0.04264686731932064\n",
      "Epoch : 87, Loss:0.030429960212204607\n",
      "Epoch : 88, Loss:0.0379893973582269\n",
      "Epoch : 89, Loss:0.02564544662988434\n",
      "Epoch : 90, Loss:0.021141231084087244\n",
      "Epoch : 91, Loss:0.023614987488059947\n",
      "Epoch : 92, Loss:0.023402683517197147\n",
      "Epoch : 93, Loss:0.03420164905624309\n",
      "Epoch : 94, Loss:0.023223208345783255\n",
      "Epoch : 95, Loss:0.01538396874209866\n",
      "Epoch : 96, Loss:0.021014504565779742\n",
      "Epoch : 97, Loss:0.012650593102637988\n",
      "Epoch : 98, Loss:0.014721178608306218\n",
      "Epoch : 99, Loss:0.014622092632926069\n",
      "Epoch : 100, Loss:0.029125760948518292\n"
     ]
    }
   ],
   "source": [
    "#training loop\n",
    "for epoch in range(epochs):\n",
    "    \n",
    "    total_epoch_loss = 0\n",
    "    for batch_features, batch_labels in train_loader:\n",
    "        #forward pass\n",
    "        outputs = model(batch_features)\n",
    "        \n",
    "        #calculate loss\n",
    "        loss= criterion(outputs, batch_labels)\n",
    "        \n",
    "        #backward pass\n",
    "        optimizer.zero_grad()\n",
    "        loss.backward()\n",
    "        \n",
    "        #update grads\n",
    "        optimizer.step()\n",
    "        \n",
    "        total_epoch_loss+=loss.item()\n",
    "        \n",
    "    avg_loss = total_epoch_loss/len(train_loader)\n",
    "    print(f\"Epoch : {epoch+1}, Loss:{avg_loss}\")\n",
    "        "
   ]
  },
  {
   "cell_type": "code",
   "execution_count": 41,
   "metadata": {},
   "outputs": [
    {
     "name": "stdout",
     "output_type": "stream",
     "text": [
      "0.8416666666666667\n"
     ]
    }
   ],
   "source": [
    "#set model to eval\n",
    "total = 0\n",
    "correct = 0\n",
    "\n",
    "with torch.no_grad():\n",
    "    \n",
    "    for batch_features,batch_labels in test_loader:\n",
    "        outputs = model(batch_features)\n",
    "        \n",
    "        _,predicted=torch.max(outputs,1)\n",
    "        total += batch_labels.shape[0]\n",
    "        correct = correct + (predicted == batch_labels).sum().item()\n",
    "        \n",
    "    print(correct/total)"
   ]
  }
 ],
 "metadata": {
  "kernelspec": {
   "display_name": "base",
   "language": "python",
   "name": "python3"
  },
  "language_info": {
   "codemirror_mode": {
    "name": "ipython",
    "version": 3
   },
   "file_extension": ".py",
   "mimetype": "text/x-python",
   "name": "python",
   "nbconvert_exporter": "python",
   "pygments_lexer": "ipython3",
   "version": "3.12.4"
  }
 },
 "nbformat": 4,
 "nbformat_minor": 2
}
